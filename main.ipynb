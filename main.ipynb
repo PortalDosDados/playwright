{
 "cells": [
  {
   "cell_type": "code",
   "execution_count": null,
   "id": "5267dedd",
   "metadata": {},
   "outputs": [],
   "source": [
    "!pip install yfinance pandas_datareader matplotlib --quiet\n",
    "\n",
    "import yfinance as yf\n",
    "import matplotlib.pyplot as plt\n",
    "import pandas_datareader.data as web\n",
    "import datetime\n",
    "\n",
    "\n"
   ]
  },
  {
   "cell_type": "code",
   "execution_count": null,
   "id": "372b5b50",
   "metadata": {},
   "outputs": [],
   "source": [
    "# Definindo o Ticker\n",
    "\n",
    "acao = 'SANB3.SA'\n",
    "\n",
    "ticker = yf.Ticker(acao)\n",
    "\n",
    "inicio = \"2019-01-01\"\n",
    "\n",
    "fim = \"2025-01-01\"\n",
    "\n",
    "# Histórico de preços de 2024\n",
    "dados = ticker.history(start = inicio ,end = fim)"
   ]
  },
  {
   "cell_type": "code",
   "execution_count": null,
   "id": "1bac68a3",
   "metadata": {},
   "outputs": [],
   "source": [
    "print(acao)"
   ]
  },
  {
   "cell_type": "code",
   "execution_count": null,
   "id": "709acdfb",
   "metadata": {},
   "outputs": [],
   "source": [
    "# Exibir as 5 primeiras linhas\n",
    "print(dados.head())"
   ]
  },
  {
   "cell_type": "code",
   "execution_count": null,
   "id": "db0221db",
   "metadata": {},
   "outputs": [],
   "source": [
    "# Gráfico\n",
    "dados['Close'].plot(title=f'{acao} - Fechamento {inicio} e {fim}', figsize=(10,5))\n",
    "plt.xlabel(\"Data\")\n",
    "plt.ylabel(\"Preço (R$)\")\n",
    "plt.grid()\n",
    "plt.show()\n"
   ]
  }
 ],
 "metadata": {
  "kernelspec": {
   "display_name": "Python 3",
   "language": "python",
   "name": "python3"
  },
  "language_info": {
   "codemirror_mode": {
    "name": "ipython",
    "version": 3
   },
   "file_extension": ".py",
   "mimetype": "text/x-python",
   "name": "python",
   "nbconvert_exporter": "python",
   "pygments_lexer": "ipython3",
   "version": "3.11.13"
  }
 },
 "nbformat": 4,
 "nbformat_minor": 5
}
